{
 "cells": [
  {
   "cell_type": "code",
   "execution_count": 2,
   "metadata": {},
   "outputs": [],
   "source": [
    "import pandas as pd"
   ]
  },
  {
   "cell_type": "code",
   "execution_count": 3,
   "metadata": {},
   "outputs": [],
   "source": [
    "df = pd.read_csv(\"resources/dataset/NISPUF17.csv\", index_col=0)\n",
    "df.index.name = 'pkey'\n"
   ]
  },
  {
   "cell_type": "code",
   "execution_count": 4,
   "metadata": {},
   "outputs": [],
   "source": [
    "edu_lt_hs = (df[df['EDUC1'] == 1].shape[0])/(df.shape[0])\n",
    "edu_e_hs = (df[df['EDUC1'] == 2].shape[0])/(df.shape[0])\n",
    "edu_gt_hs = (df[df['EDUC1'] == 3].shape[0])/(df.shape[0])\n",
    "edu_grad = (df[df['EDUC1'] == 4].shape[0])/(df.shape[0])\n"
   ]
  },
  {
   "cell_type": "code",
   "execution_count": 5,
   "metadata": {},
   "outputs": [
    {
     "data": {
      "text/plain": [
       "{'less than high school': 0.10202002459160373,\n",
       " 'high school': 0.172352011241876,\n",
       " 'more than high school but not college': 0.24588090637625154,\n",
       " 'college': 0.47974705779026877}"
      ]
     },
     "execution_count": 5,
     "metadata": {},
     "output_type": "execute_result"
    }
   ],
   "source": [
    "def proportion_of_education():\n",
    "    #Write the code below\n",
    "    result = {}\n",
    "    edu_lt_hs = (df[df['EDUC1'] == 1].shape[0])/(df.shape[0])\n",
    "    edu_e_hs = (df[df['EDUC1'] == 2].shape[0])/(df.shape[0])\n",
    "    edu_gt_hs = (df[df['EDUC1'] == 3].shape[0])/(df.shape[0])\n",
    "    edu_grad = (df[df['EDUC1'] == 4].shape[0])/(df.shape[0])\n",
    "    \n",
    "    result['less than high school'] = edu_lt_hs\n",
    "    result['high school'] = edu_e_hs\n",
    "    result['more than high school but not college'] = edu_gt_hs\n",
    "    result['college'] = edu_grad\n",
    "    return result\n",
    "\n",
    "proportion_of_education()"
   ]
  },
  {
   "cell_type": "code",
   "execution_count": 6,
   "metadata": {},
   "outputs": [],
   "source": [
    "assert type(proportion_of_education())==type({}), \"You must return a dictionary.\"\n",
    "assert len(proportion_of_education()) == 4, \"You have not returned a dictionary with four items in it.\"\n",
    "assert \"less than high school\" in proportion_of_education().keys(), \"You have not returned a dictionary with the correct keys.\"\n",
    "assert \"high school\" in proportion_of_education().keys(), \"You have not returned a dictionary with the correct keys.\"\n",
    "assert \"more than high school but not college\" in proportion_of_education().keys(), \"You have not returned a dictionary with the correct keys.\"\n",
    "assert \"college\" in proportion_of_education().keys(), \"You have not returned a dictionary with the correct keys.\"\n"
   ]
  },
  {
   "cell_type": "code",
   "execution_count": 7,
   "metadata": {},
   "outputs": [
    {
     "data": {
      "text/plain": [
       "(1.8799187420058687, 1.5963945918878317)"
      ]
     },
     "execution_count": 7,
     "metadata": {},
     "output_type": "execute_result"
    }
   ],
   "source": [
    "children_bf_vc = df[(df['CBF_01'] == 1) & (df['P_NUMFLU'] >= 0)]\n",
    "children_vc = df[(df['CBF_01'] == 2) & (df['P_NUMFLU'] >= 0)]\n",
    "\n",
    "avg = children_bf_vc['P_NUMFLU'].mean(),children_vc['P_NUMFLU'].mean()\n",
    "avg"
   ]
  },
  {
   "cell_type": "code",
   "execution_count": 8,
   "metadata": {},
   "outputs": [
    {
     "data": {
      "text/plain": [
       "7028"
      ]
     },
     "execution_count": 8,
     "metadata": {},
     "output_type": "execute_result"
    }
   ],
   "source": [
    "male_had_pox = df[(df['SEX'] == 1) & (df['P_NUMVRC'] > 0) & (df['HAD_CPOX'] == 1)]\n",
    "male_didnt_pox = df[(df['SEX'] == 1) & (df['P_NUMVRC'] > 0) & (df['HAD_CPOX'] == 2)]\n",
    "female_had_pox = df[(df['SEX'] == 2) & (df['P_NUMVRC'] > 0) & (df['HAD_CPOX'] == 1)]\n",
    "female_didnt_pox = df[(df['SEX'] == 2) & (df['P_NUMVRC'] > 0) & (df['HAD_CPOX'] == 2)]\n",
    "\n",
    "male_didnt_pox.shape[0]"
   ]
  },
  {
   "cell_type": "code",
   "execution_count": 17,
   "metadata": {},
   "outputs": [
    {
     "data": {
      "text/html": [
       "<div>\n",
       "<style scoped>\n",
       "    .dataframe tbody tr th:only-of-type {\n",
       "        vertical-align: middle;\n",
       "    }\n",
       "\n",
       "    .dataframe tbody tr th {\n",
       "        vertical-align: top;\n",
       "    }\n",
       "\n",
       "    .dataframe thead th {\n",
       "        text-align: right;\n",
       "    }\n",
       "</style>\n",
       "<table border=\"1\" class=\"dataframe\">\n",
       "  <thead>\n",
       "    <tr style=\"text-align: right;\">\n",
       "      <th></th>\n",
       "      <th>HAD_CPOX</th>\n",
       "      <th>P_NUMVRC</th>\n",
       "    </tr>\n",
       "    <tr>\n",
       "      <th>pkey</th>\n",
       "      <th></th>\n",
       "      <th></th>\n",
       "    </tr>\n",
       "  </thead>\n",
       "  <tbody>\n",
       "    <tr>\n",
       "      <th>4</th>\n",
       "      <td>2</td>\n",
       "      <td>1.0</td>\n",
       "    </tr>\n",
       "    <tr>\n",
       "      <th>5</th>\n",
       "      <td>2</td>\n",
       "      <td>0.0</td>\n",
       "    </tr>\n",
       "    <tr>\n",
       "      <th>7</th>\n",
       "      <td>2</td>\n",
       "      <td>1.0</td>\n",
       "    </tr>\n",
       "    <tr>\n",
       "      <th>8</th>\n",
       "      <td>2</td>\n",
       "      <td>0.0</td>\n",
       "    </tr>\n",
       "    <tr>\n",
       "      <th>9</th>\n",
       "      <td>1</td>\n",
       "      <td>0.0</td>\n",
       "    </tr>\n",
       "  </tbody>\n",
       "</table>\n",
       "</div>"
      ],
      "text/plain": [
       "      HAD_CPOX  P_NUMVRC\n",
       "pkey                    \n",
       "4            2       1.0\n",
       "5            2       0.0\n",
       "7            2       1.0\n",
       "8            2       0.0\n",
       "9            1       0.0"
      ]
     },
     "execution_count": 17,
     "metadata": {},
     "output_type": "execute_result"
    }
   ],
   "source": [
    "import numpy as np\n",
    "# this is just an example dataframe\n",
    "df232=pd.DataFrame({\"had_chickenpox_column\":np.random.randint(1,3,size=(100)),\n",
    "                   \"num_chickenpox_vaccine_column\":np.random.randint(0,6,size=(100))})\n",
    "    \n",
    "# here is some stub code to actually run the correlation\n",
    "# corr, pval=stats.pearsonr(df[\"had_chickenpox_column\"],df[\"num_chickenpox_vaccine_column\"])\n",
    "dataf = df[(df['HAD_CPOX'] > 0) &  (df['P_NUMVRC'] >= 0)]\n"
   ]
  },
  {
   "cell_type": "code",
   "execution_count": null,
   "metadata": {},
   "outputs": [],
   "source": []
  }
 ],
 "metadata": {
  "kernelspec": {
   "display_name": "Python 3",
   "language": "python",
   "name": "python3"
  },
  "language_info": {
   "codemirror_mode": {
    "name": "ipython",
    "version": 3
   },
   "file_extension": ".py",
   "mimetype": "text/x-python",
   "name": "python",
   "nbconvert_exporter": "python",
   "pygments_lexer": "ipython3",
   "version": "3.8.1"
  }
 },
 "nbformat": 4,
 "nbformat_minor": 4
}
